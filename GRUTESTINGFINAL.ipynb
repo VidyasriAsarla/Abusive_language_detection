{
 "cells": [
  {
   "cell_type": "code",
   "execution_count": null,
   "metadata": {
    "id": "NbFspX2ZmpXr"
   },
   "outputs": [],
   "source": []
  },
  {
   "cell_type": "code",
   "execution_count": 48,
   "metadata": {
    "id": "kArmJtRbeoWc"
   },
   "outputs": [],
   "source": [
    "import pandas as pd\n",
    "from tensorflow.keras.preprocessing.text import Tokenizer,text_to_word_sequence\n",
    "from tensorflow.keras.preprocessing.sequence import pad_sequences\n",
    "import tensorflow as tf\n",
    "from tensorflow.keras.callbacks import Callback ,EarlyStopping,ModelCheckpoint\n",
    "from sklearn.metrics import precision_score, recall_score,accuracy_score\n",
    "from tensorflow.keras.models import Sequential\n",
    "from tensorflow.keras.layers import Embedding, LSTM, Bidirectional, Dense\n",
    "from sklearn.model_selection import train_test_split\n",
    "from tensorflow.keras.preprocessing.sequence import pad_sequences"
   ]
  },
  {
   "cell_type": "code",
   "execution_count": null,
   "metadata": {
    "id": "zkbgfOn8sHTQ"
   },
   "outputs": [],
   "source": []
  },
  {
   "cell_type": "code",
   "execution_count": 49,
   "metadata": {
    "id": "I1BSQ4Q_ePlN"
   },
   "outputs": [],
   "source": [
    "df = pd.read_csv(r\"C:\\Users\\admin\\Desktop\\Major project\\dataset\\cleanTestDataOne.csv\")"
   ]
  },
  {
   "cell_type": "code",
   "execution_count": 50,
   "metadata": {
    "colab": {
     "base_uri": "https://localhost:8080/",
     "height": 35
    },
    "id": "oops_URxmBvr",
    "outputId": "259c193d-138e-4c35-92d9-6e4d84cf995a"
   },
   "outputs": [
    {
     "data": {
      "text/plain": [
       "'sources    zawe ashton on lapland —'"
      ]
     },
     "execution_count": 50,
     "metadata": {},
     "output_type": "execute_result"
    }
   ],
   "source": [
    "X=df['text'].astype(str)\n",
    "X[2]"
   ]
  },
  {
   "cell_type": "code",
   "execution_count": 51,
   "metadata": {
    "id": "TJRqtRJJejpd"
   },
   "outputs": [],
   "source": [
    "\n",
    "# X=['You motherfucker go and fuck youself']\n",
    "tokenizer = Tokenizer(num_words=10000)\n",
    "tokenizer.fit_on_texts(X)\n",
    "sequences = tokenizer.texts_to_sequences(X)\n",
    "X = pad_sequences(sequences, maxlen=100)"
   ]
  },
  {
   "cell_type": "code",
   "execution_count": 52,
   "metadata": {
    "id": "OH-Bbez4m2w_"
   },
   "outputs": [
    {
     "name": "stdout",
     "output_type": "stream",
     "text": [
      "Keras model archive loading:\n",
      "File Name                                             Modified             Size\n",
      "config.json                                    2023-04-16 15:33:40         2718\n",
      "metadata.json                                  2023-04-16 15:33:40           64\n",
      "variables.h5                                   2023-04-16 15:33:40     11453128\n",
      "Keras weights file (<HDF5 file \"variables.h5\" (mode r)>) loading:\n",
      "...layers\\bidirectional\n",
      "......vars\n",
      "...layers\\bidirectional\\backward_layer\n",
      "......vars\n",
      "...layers\\bidirectional\\backward_layer\\cell\n",
      "......vars\n",
      ".........0\n",
      ".........1\n",
      ".........2\n",
      "...layers\\bidirectional\\forward_layer\n",
      "......vars\n",
      "...layers\\bidirectional\\forward_layer\\cell\n",
      "......vars\n",
      ".........0\n",
      ".........1\n",
      ".........2\n",
      "...layers\\bidirectional\\layer\n",
      "......vars\n",
      "...layers\\bidirectional\\layer\\cell\n",
      "......vars\n",
      "...layers\\dense\n",
      "......vars\n",
      ".........0\n",
      ".........1\n",
      "...layers\\embedding\n",
      "......vars\n",
      ".........0\n",
      "...metrics\\mean\n",
      "......vars\n",
      ".........0\n",
      ".........1\n",
      "...metrics\\mean_metric_wrapper\n",
      "......vars\n",
      ".........0\n",
      ".........1\n",
      "...metrics\\precision\n",
      "......vars\n",
      ".........0\n",
      ".........1\n",
      "...metrics\\recall\n",
      "......vars\n",
      ".........0\n",
      ".........1\n",
      "...optimizer\n",
      "......vars\n",
      ".........0\n",
      ".........1\n",
      ".........10\n",
      ".........11\n",
      ".........12\n",
      ".........13\n",
      ".........14\n",
      ".........15\n",
      ".........16\n",
      ".........2\n",
      ".........3\n",
      ".........4\n",
      ".........5\n",
      ".........6\n",
      ".........7\n",
      ".........8\n",
      ".........9\n",
      "...vars\n"
     ]
    }
   ],
   "source": [
    "import pickle\n",
    "with open(r'C:\\Users\\admin\\Desktop\\Major project\\dataset\\modelGRUBidirectionalGlove.pkl', 'rb') as f:\n",
    "  pickle_data_GRU_bidirec_glove=pickle.load(f)"
   ]
  },
  {
   "cell_type": "code",
   "execution_count": 53,
   "metadata": {
    "id": "TZytNsb0njFt"
   },
   "outputs": [
    {
     "data": {
      "text/plain": [
       "{'data': {'loss': [0.3345572352409363,\n",
       "   0.2585996389389038,\n",
       "   0.23820167779922485,\n",
       "   0.2207595258951187,\n",
       "   0.20793753862380981,\n",
       "   0.19241009652614594,\n",
       "   0.17629507184028625,\n",
       "   0.16187633574008942,\n",
       "   0.14658915996551514,\n",
       "   0.1273690015077591,\n",
       "   0.11037807911634445],\n",
       "  'accuracy': [0.8564010262489319,\n",
       "   0.8950356841087341,\n",
       "   0.9034826755523682,\n",
       "   0.911652684211731,\n",
       "   0.917191743850708,\n",
       "   0.9223845601081848,\n",
       "   0.9305545687675476,\n",
       "   0.9369937181472778,\n",
       "   0.9419095516204834,\n",
       "   0.9509797096252441,\n",
       "   0.9579035043716431],\n",
       "  'precision': [0.8661260604858398,\n",
       "   0.8997897505760193,\n",
       "   0.9091419577598572,\n",
       "   0.9166082739830017,\n",
       "   0.9216235280036926,\n",
       "   0.9257398247718811,\n",
       "   0.933854341506958,\n",
       "   0.9405277371406555,\n",
       "   0.9467936158180237,\n",
       "   0.9531098008155823,\n",
       "   0.9613506197929382],\n",
       "  'recall': [0.8430964946746826,\n",
       "   0.8890735507011414,\n",
       "   0.8965517282485962,\n",
       "   0.9056917428970337,\n",
       "   0.9119235277175903,\n",
       "   0.918432354927063,\n",
       "   0.9267414212226868,\n",
       "   0.9329732656478882,\n",
       "   0.9364354014396667,\n",
       "   0.9486220479011536,\n",
       "   0.9541614651679993],\n",
       "  'val_loss': [0.27178460359573364,\n",
       "   0.25936099886894226,\n",
       "   0.24141483008861542,\n",
       "   0.23613625764846802,\n",
       "   0.24073639512062073,\n",
       "   0.23013260960578918,\n",
       "   0.23223276436328888,\n",
       "   0.2368747740983963,\n",
       "   0.24125145375728607,\n",
       "   0.24828404188156128,\n",
       "   0.2686725854873657],\n",
       "  'val_accuracy': [0.8859041929244995,\n",
       "   0.8958737254142761,\n",
       "   0.9039047360420227,\n",
       "   0.9061201810836792,\n",
       "   0.9061201810836792,\n",
       "   0.9069510102272034,\n",
       "   0.9077817797660828,\n",
       "   0.9061201810836792,\n",
       "   0.9091664552688599,\n",
       "   0.9080587029457092,\n",
       "   0.9055663347244263],\n",
       "  'val_precision': [0.893785297870636,\n",
       "   0.9328086972236633,\n",
       "   0.8941112756729126,\n",
       "   0.907726526260376,\n",
       "   0.9302052855491638,\n",
       "   0.9204805493354797,\n",
       "   0.9201369285583496,\n",
       "   0.9063711762428284,\n",
       "   0.9069383144378662,\n",
       "   0.9121924042701721,\n",
       "   0.8881822824478149],\n",
       "  'val_recall': [0.8759689927101135,\n",
       "   0.8532668948173523,\n",
       "   0.9163898229598999,\n",
       "   0.9042081832885742,\n",
       "   0.8781838417053223,\n",
       "   0.8909191489219666,\n",
       "   0.8931339979171753,\n",
       "   0.9058693051338196,\n",
       "   0.9119601249694824,\n",
       "   0.9031007885932922,\n",
       "   0.9280177354812622]},\n",
       " 'model': <keras.engine.sequential.Sequential at 0x227d131cfd0>}"
      ]
     },
     "execution_count": 53,
     "metadata": {},
     "output_type": "execute_result"
    }
   ],
   "source": [
    "pickle_data_GRU_bidirec_glove"
   ]
  },
  {
   "cell_type": "code",
   "execution_count": 54,
   "metadata": {},
   "outputs": [
    {
     "data": {
      "text/plain": [
       "(0.9204081296920776, 0.914882090958682, 0.9249695918776772)"
      ]
     },
     "execution_count": 54,
     "metadata": {},
     "output_type": "execute_result"
    }
   ],
   "source": [
    "accuracy= sum(pickle_data_GRU_bidirec_glove['data']['accuracy'])/len(pickle_data_GRU_bidirec_glove['data']['accuracy'])\n",
    "recall=sum(pickle_data_GRU_bidirec_glove['data']['recall'])/len(pickle_data_GRU_bidirec_glove['data']['recall'])\n",
    "precision=sum(pickle_data_GRU_bidirec_glove['data']['precision'])/len(pickle_data_GRU_bidirec_glove['data']['precision'])\n",
    "accuracy, recall,precision"
   ]
  },
  {
   "cell_type": "code",
   "execution_count": 55,
   "metadata": {},
   "outputs": [
    {
     "data": {
      "text/plain": [
       "0.9198912895751286"
      ]
     },
     "execution_count": 55,
     "metadata": {},
     "output_type": "execute_result"
    }
   ],
   "source": [
    "length=len(pickle_data_GRU_bidirec_glove['data']['accuracy'])\n",
    "f1=[]\n",
    "for i in range(0,length):\n",
    "  N=2*(pickle_data_GRU_bidirec_glove['data']['precision'][i]*pickle_data_GRU_bidirec_glove['data']['recall'][i])\n",
    "  D=(pickle_data_GRU_bidirec_glove['data']['precision'][i]+pickle_data_GRU_bidirec_glove['data']['recall'][i])\n",
    "  f1.append(N/D)\n",
    "sum(f1)/length"
   ]
  },
  {
   "cell_type": "code",
   "execution_count": 56,
   "metadata": {
    "id": "Rd1MIQc9ghvY"
   },
   "outputs": [],
   "source": [
    "model=pickle_data_GRU_bidirec_glove['model']"
   ]
  },
  {
   "cell_type": "code",
   "execution_count": 57,
   "metadata": {
    "colab": {
     "base_uri": "https://localhost:8080/"
    },
    "id": "YhKfmPitnmFK",
    "outputId": "b9ac7f5a-7263-47f5-a9d0-e4f0e2f80a49"
   },
   "outputs": [
    {
     "name": "stdout",
     "output_type": "stream",
     "text": [
      "4787/4787 [==============================] - 77s 16ms/step\n"
     ]
    },
    {
     "data": {
      "text/plain": [
       "array([[0.9998991 ],\n",
       "       [0.998427  ],\n",
       "       [0.06099216],\n",
       "       ...,\n",
       "       [0.99997854],\n",
       "       [0.9999233 ],\n",
       "       [0.9999271 ]], dtype=float32)"
      ]
     },
     "execution_count": 57,
     "metadata": {},
     "output_type": "execute_result"
    }
   ],
   "source": [
    "model.predict(X)"
   ]
  },
  {
   "cell_type": "code",
   "execution_count": null,
   "metadata": {
    "id": "uaGNbi0antqb"
   },
   "outputs": [],
   "source": []
  },
  {
   "cell_type": "code",
   "execution_count": 58,
   "metadata": {
    "colab": {
     "base_uri": "https://localhost:8080/"
    },
    "id": "obHvlLMGOyyZ",
    "outputId": "9753d6b2-cff7-4d94-d28d-2d7ffd3ac038"
   },
   "outputs": [],
   "source": [
    "#!pip install matplotlib\n"
   ]
  },
  {
   "cell_type": "code",
   "execution_count": 59,
   "metadata": {
    "id": "fGo2EsQANj3k"
   },
   "outputs": [],
   "source": [
    "y1=pickle_data_GRU_bidirec_glove['data']['loss']\n",
    "x=list(range(1,len(pickle_data_GRU_bidirec_glove['data']['loss'])+1))\n",
    "y2=pickle_data_GRU_bidirec_glove['data']['val_loss']\n",
    "\n"
   ]
  },
  {
   "cell_type": "code",
   "execution_count": 60,
   "metadata": {
    "colab": {
     "base_uri": "https://localhost:8080/",
     "height": 472
    },
    "id": "22t54lPaONkQ",
    "outputId": "50fd9fa7-c8c8-42f5-c2f0-df5364d06b82"
   },
   "outputs": [
    {
     "data": {
      "image/png": "[encoded data removed]",
      "text/plain": [
       "<Figure size 640x480 with 1 Axes>"
      ]
     },
     "metadata": {},
     "output_type": "display_data"
    }
   ],
   "source": [
    "import matplotlib.pyplot as plt\n",
    "plt.plot( x,y1, label='training')\n",
    "plt.plot(x ,y2, label='validation')\n",
    "\n",
    "plt.xlabel('Epoch')\n",
    "plt.ylabel('Loss')\n",
    "plt.title('Title of the plot')\n",
    "plt.legend()\n",
    "plt.show()\n",
    "\n",
    "\n"
   ]
  },
  {
   "cell_type": "code",
   "execution_count": null,
   "metadata": {
    "id": "vqxFwSejn5vU"
   },
   "outputs": [],
   "source": []
  },
  {
   "cell_type": "code",
   "execution_count": 61,
   "metadata": {
    "id": "n0uLc5VQPoHH"
   },
   "outputs": [],
   "source": [
    "y1=pickle_data_GRU_bidirec_glove['data']['accuracy']\n",
    "x=list(range(1,len(pickle_data_GRU_bidirec_glove['data']['accuracy'])+1))\n",
    "y2=pickle_data_GRU_bidirec_glove['data']['val_accuracy']"
   ]
  },
  {
   "cell_type": "code",
   "execution_count": 62,
   "metadata": {
    "colab": {
     "base_uri": "https://localhost:8080/",
     "height": 472
    },
    "id": "oauVaw0MPxem",
    "outputId": "975491bc-c4ad-4b91-d48d-f807b69a5c36"
   },
   "outputs": [
    {
     "data": {
      "image/png": "[encoded data removed]",
      "text/plain": [
       "<Figure size 640x480 with 1 Axes>"
      ]
     },
     "metadata": {},
     "output_type": "display_data"
    }
   ],
   "source": [
    "import matplotlib.pyplot as plt\n",
    "plt.plot( x,y1, label='training')\n",
    "plt.plot(x ,y2, label='validation')\n",
    "\n",
    "plt.xlabel('Epoch')\n",
    "plt.ylabel('Accuracy')\n",
    "plt.title('Title of the plot')\n",
    "plt.legend()\n",
    "plt.show()\n",
    "\n",
    "\n"
   ]
  },
  {
   "cell_type": "code",
   "execution_count": null,
   "metadata": {
    "id": "9cyFEQlroE02"
   },
   "outputs": [],
   "source": []
  },
  {
   "cell_type": "code",
   "execution_count": 63,
   "metadata": {
    "id": "zxbFBJHoQu1T"
   },
   "outputs": [],
   "source": [
    "import pytesseract\n",
    "\n",
    "import shutil\n",
    "\n",
    "import os\n",
    "\n",
    "import random\n",
    "\n",
    "try:\n",
    "\n",
    "    from PIL import Image\n",
    "\n",
    "except ImportError:\n",
    "\n",
    "    import Image"
   ]
  },
  {
   "cell_type": "code",
   "execution_count": 64,
   "metadata": {
    "id": "0Rh5GhRHRCih"
   },
   "outputs": [],
   "source": [
    "image_path_in_colab=r'C:\\Users\\admin\\Desktop\\Major project\\testImage.png'\n",
    "\n",
    "extractedInformation = pytesseract.image_to_string(Image.open(image_path_in_colab))\n",
    "\n"
   ]
  },
  {
   "cell_type": "code",
   "execution_count": 65,
   "metadata": {
    "id": "QltrkI1wRPJ_"
   },
   "outputs": [
    {
     "data": {
      "text/plain": [
       "'please feel free to go ahead and\\nblock this address it will stop an\\nentire country with 300 000\\nregistered internet users from\\nediting\\n\\x0c'"
      ]
     },
     "execution_count": 65,
     "metadata": {},
     "output_type": "execute_result"
    }
   ],
   "source": [
    "extractedInformation"
   ]
  },
  {
   "cell_type": "code",
   "execution_count": 66,
   "metadata": {
    "id": "JHIfGcfDqyHh"
   },
   "outputs": [],
   "source": [
    "\n",
    "#!pip install contractions"
   ]
  },
  {
   "cell_type": "code",
   "execution_count": 67,
   "metadata": {
    "id": "AWdgDuf7A5yY"
   },
   "outputs": [],
   "source": [
    "import pandas as pd\n",
    "import string\n",
    "import contractions\n",
    "\n",
    "def cleanData(text):\n",
    "  \n",
    "    return  contractions.fix(text.translate(str.maketrans('', '', string.punctuation)).replace('\\n', ' ').strip()).lower()\n",
    " \n",
    "\n",
    "\n"
   ]
  },
  {
   "cell_type": "code",
   "execution_count": 68,
   "metadata": {
    "id": "gQsm2kC2tZMF"
   },
   "outputs": [
    {
     "data": {
      "text/plain": [
       "'please feel free to go ahead and block this address it will stop an entire country with 300 000 registered internet users from editing'"
      ]
     },
     "execution_count": 68,
     "metadata": {},
     "output_type": "execute_result"
    }
   ],
   "source": [
    "data=cleanData(extractedInformation)\n",
    "data"
   ]
  },
  {
   "cell_type": "code",
   "execution_count": 69,
   "metadata": {
    "id": "uAlJ_ExECR4Q"
   },
   "outputs": [
    {
     "data": {
      "text/plain": [
       "array([[ 0,  0,  0,  0,  0,  0,  0,  0,  0,  0,  0,  0,  0,  0,  0,  0,\n",
       "         0,  0,  0,  0,  0,  0,  0,  0,  0,  0,  0,  0,  0,  0,  0,  0,\n",
       "         0,  0,  0,  0,  0,  0,  0,  0,  0,  0,  0,  0,  0,  0,  0,  0,\n",
       "         0,  0,  0,  0,  0,  0,  0,  0,  0,  0,  0,  0,  0,  0,  0,  0,\n",
       "         0,  0,  0,  0,  0,  0,  0,  0,  0,  0,  0,  0,  1,  2,  3,  4,\n",
       "         5,  6,  7,  8,  9, 10, 11, 12, 13, 14, 15, 16, 17, 18, 19, 20,\n",
       "        21, 22, 23, 24]])"
      ]
     },
     "execution_count": 69,
     "metadata": {},
     "output_type": "execute_result"
    }
   ],
   "source": [
    "\n",
    "tokenizer = Tokenizer(num_words=10000)\n",
    "tokenizer.fit_on_texts([data])\n",
    "sequences = tokenizer.texts_to_sequences([data])\n",
    "X = pad_sequences(sequences, maxlen=100)\n",
    "X"
   ]
  },
  {
   "cell_type": "code",
   "execution_count": 70,
   "metadata": {
    "id": "UHBf8vtmP7D0"
   },
   "outputs": [
    {
     "name": "stdout",
     "output_type": "stream",
     "text": [
      "1/1 [==============================] - 0s 26ms/step\n"
     ]
    },
    {
     "data": {
      "text/plain": [
       "array([[0.95360345]], dtype=float32)"
      ]
     },
     "execution_count": 70,
     "metadata": {},
     "output_type": "execute_result"
    }
   ],
   "source": [
    "predictNormal=model.predict(X)\n",
    "predictNormal"
   ]
  },
  {
   "cell_type": "code",
   "execution_count": null,
   "metadata": {},
   "outputs": [],
   "source": []
  }
 ],
 "metadata": {
  "colab": {
   "provenance": []
  },
  "kernelspec": {
   "display_name": "Python 3 (ipykernel)",
   "language": "python",
   "name": "python3"
  },
  "language_info": {
   "codemirror_mode": {
    "name": "ipython",
    "version": 3
   },
   "file_extension": ".py",
   "mimetype": "text/x-python",
   "name": "python",
   "nbconvert_exporter": "python",
   "pygments_lexer": "ipython3",
   "version": "3.10.5"
  }
 },
 "nbformat": 4,
 "nbformat_minor": 1
}
