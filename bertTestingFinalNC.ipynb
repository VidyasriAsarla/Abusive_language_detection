{
 "cells": [
  {
   "cell_type": "code",
   "execution_count": 1,
   "metadata": {
    "id": "DhRLzVW8LXoD"
   },
   "outputs": [],
   "source": [
    "import tensorflow as tf\n",
    "from transformers import BertTokenizer,TFBertForSequenceClassification\n"
   ]
  },
  {
   "cell_type": "code",
   "execution_count": 2,
   "metadata": {
    "id": "VqJajTl5LYbx"
   },
   "outputs": [],
   "source": [
    "# Specify the path to the saved model\n",
    "model_path = r'C:\\Users\\admin\\Desktop\\Major project\\dataset\\modelBert'\n",
    "\n",
    "# Load the saved model\n",
    "bert_model = tf.keras.models.load_model(model_path)\n"
   ]
  },
  {
   "cell_type": "code",
   "execution_count": 3,
   "metadata": {
    "colab": {
     "base_uri": "https://localhost:8080/"
    },
    "id": "uKIYx2ewlltT",
    "outputId": "f3f53d4f-9ed8-46eb-e7f1-50e0a327f15d"
   },
   "outputs": [
    {
     "data": {
      "text/plain": [
       "<bound method Model.predict of <keras.saving.legacy.saved_model.load.TFBertForSequenceClassification object at 0x000001A8093C28C0>>"
      ]
     },
     "execution_count": 3,
     "metadata": {},
     "output_type": "execute_result"
    }
   ],
   "source": [
    "bert_model.predict"
   ]
  },
  {
   "cell_type": "code",
   "execution_count": 4,
   "metadata": {
    "id": "8TLAugJwLbl5"
   },
   "outputs": [],
   "source": [
    "bert_tokenizer = BertTokenizer.from_pretrained(\"bert-base-uncased\")\n"
   ]
  },
  {
   "cell_type": "code",
   "execution_count": 5,
   "metadata": {
    "id": "fJOZagy2E47l"
   },
   "outputs": [],
   "source": [
    "\n",
    "new_sequences = ['cocksucker before you piss around on my work','I am very good man.']\n",
    "data = bert_tokenizer(new_sequences, truncation=True,max_length=100, padding='max_length', return_tensors='tf',return_attention_mask=True)\n"
   ]
  },
  {
   "cell_type": "code",
   "execution_count": 6,
   "metadata": {
    "colab": {
     "base_uri": "https://localhost:8080/"
    },
    "id": "6F32xpxjGWAx",
    "outputId": "ac4b870d-a558-4432-8211-f30cfca0cb10"
   },
   "outputs": [
    {
     "data": {
      "text/plain": [
       "<tf.Tensor: shape=(2, 100), dtype=int32, numpy=\n",
       "array([[  101, 10338,  6342,  9102,  2077,  2017, 18138,  2105,  2006,\n",
       "         2026,  2147,   102,     0,     0,     0,     0,     0,     0,\n",
       "            0,     0,     0,     0,     0,     0,     0,     0,     0,\n",
       "            0,     0,     0,     0,     0,     0,     0,     0,     0,\n",
       "            0,     0,     0,     0,     0,     0,     0,     0,     0,\n",
       "            0,     0,     0,     0,     0,     0,     0,     0,     0,\n",
       "            0,     0,     0,     0,     0,     0,     0,     0,     0,\n",
       "            0,     0,     0,     0,     0,     0,     0,     0,     0,\n",
       "            0,     0,     0,     0,     0,     0,     0,     0,     0,\n",
       "            0,     0,     0,     0,     0,     0,     0,     0,     0,\n",
       "            0,     0,     0,     0,     0,     0,     0,     0,     0,\n",
       "            0],\n",
       "       [  101,  1045,  2572,  2200,  2204,  2158,  1012,   102,     0,\n",
       "            0,     0,     0,     0,     0,     0,     0,     0,     0,\n",
       "            0,     0,     0,     0,     0,     0,     0,     0,     0,\n",
       "            0,     0,     0,     0,     0,     0,     0,     0,     0,\n",
       "            0,     0,     0,     0,     0,     0,     0,     0,     0,\n",
       "            0,     0,     0,     0,     0,     0,     0,     0,     0,\n",
       "            0,     0,     0,     0,     0,     0,     0,     0,     0,\n",
       "            0,     0,     0,     0,     0,     0,     0,     0,     0,\n",
       "            0,     0,     0,     0,     0,     0,     0,     0,     0,\n",
       "            0,     0,     0,     0,     0,     0,     0,     0,     0,\n",
       "            0,     0,     0,     0,     0,     0,     0,     0,     0,\n",
       "            0]])>"
      ]
     },
     "execution_count": 6,
     "metadata": {},
     "output_type": "execute_result"
    }
   ],
   "source": [
    "data['input_ids']"
   ]
  },
  {
   "cell_type": "code",
   "execution_count": 7,
   "metadata": {
    "id": "FOirn1B-Gl06"
   },
   "outputs": [],
   "source": [
    "token_type_ids=tf.zeros_like(data['input_ids'])"
   ]
  },
  {
   "cell_type": "code",
   "execution_count": 8,
   "metadata": {
    "colab": {
     "base_uri": "https://localhost:8080/"
    },
    "id": "bocfdWm_I-ex",
    "outputId": "2f25054f-84eb-4293-ea39-4bbec0827194"
   },
   "outputs": [
    {
     "data": {
      "text/plain": [
       "<tf.Tensor: shape=(2, 100), dtype=int32, numpy=\n",
       "array([[0, 0, 0, 0, 0, 0, 0, 0, 0, 0, 0, 0, 0, 0, 0, 0, 0, 0, 0, 0, 0, 0,\n",
       "        0, 0, 0, 0, 0, 0, 0, 0, 0, 0, 0, 0, 0, 0, 0, 0, 0, 0, 0, 0, 0, 0,\n",
       "        0, 0, 0, 0, 0, 0, 0, 0, 0, 0, 0, 0, 0, 0, 0, 0, 0, 0, 0, 0, 0, 0,\n",
       "        0, 0, 0, 0, 0, 0, 0, 0, 0, 0, 0, 0, 0, 0, 0, 0, 0, 0, 0, 0, 0, 0,\n",
       "        0, 0, 0, 0, 0, 0, 0, 0, 0, 0, 0, 0],\n",
       "       [0, 0, 0, 0, 0, 0, 0, 0, 0, 0, 0, 0, 0, 0, 0, 0, 0, 0, 0, 0, 0, 0,\n",
       "        0, 0, 0, 0, 0, 0, 0, 0, 0, 0, 0, 0, 0, 0, 0, 0, 0, 0, 0, 0, 0, 0,\n",
       "        0, 0, 0, 0, 0, 0, 0, 0, 0, 0, 0, 0, 0, 0, 0, 0, 0, 0, 0, 0, 0, 0,\n",
       "        0, 0, 0, 0, 0, 0, 0, 0, 0, 0, 0, 0, 0, 0, 0, 0, 0, 0, 0, 0, 0, 0,\n",
       "        0, 0, 0, 0, 0, 0, 0, 0, 0, 0, 0, 0]])>"
      ]
     },
     "execution_count": 8,
     "metadata": {},
     "output_type": "execute_result"
    }
   ],
   "source": [
    "token_type_ids"
   ]
  },
  {
   "cell_type": "code",
   "execution_count": 9,
   "metadata": {
    "colab": {
     "base_uri": "https://localhost:8080/"
    },
    "id": "_pyx5sG6HWwl",
    "outputId": "69c1267e-1345-4d7e-eb3a-ee40a4c553cf"
   },
   "outputs": [
    {
     "data": {
      "text/plain": [
       "{'_tf_decorator': <tensorflow.python.util.tf_decorator.TFDecorator at 0x1a807a6f790>,\n",
       " '__wrapped__': <function keras.engine.training.Model.predict(self, x, batch_size=None, verbose='auto', steps=None, callbacks=None, max_queue_size=10, workers=1, use_multiprocessing=False)>,\n",
       " '__original_wrapped__': <function keras.engine.training.Model.predict(self, x, batch_size=None, verbose='auto', steps=None, callbacks=None, max_queue_size=10, workers=1, use_multiprocessing=False)>,\n",
       " '__signature__': <Signature (self, x, batch_size=None, verbose='auto', steps=None, callbacks=None, max_queue_size=10, workers=1, use_multiprocessing=False)>}"
      ]
     },
     "execution_count": 9,
     "metadata": {},
     "output_type": "execute_result"
    }
   ],
   "source": [
    "bert_model.predict.__dict__"
   ]
  },
  {
   "cell_type": "code",
   "execution_count": 10,
   "metadata": {
    "id": "MS9ZXy3HH-Z1"
   },
   "outputs": [],
   "source": [
    "inputs={\n",
    "    'input_ids':data['input_ids'],\n",
    "    'attention_mask':data['attention_mask'],\n",
    "    'token_type_ids':token_type_ids\n",
    "\n",
    "}"
   ]
  },
  {
   "cell_type": "code",
   "execution_count": 11,
   "metadata": {
    "colab": {
     "base_uri": "https://localhost:8080/"
    },
    "id": "C2bpRwTZE-Yj",
    "outputId": "8c2e4f7b-5fc4-4991-d70a-08069d857ff0"
   },
   "outputs": [
    {
     "name": "stdout",
     "output_type": "stream",
     "text": [
      "1/1 [==============================] - 3s 3s/step\n"
     ]
    }
   ],
   "source": [
    "# prediction = bert_model.predict([data['input_ids'], data['attention_mask']],)\n",
    "prediction=bert_model.predict(inputs)"
   ]
  },
  {
   "cell_type": "code",
   "execution_count": 12,
   "metadata": {
    "id": "d9JQNEf3L4bm"
   },
   "outputs": [],
   "source": [
    "probabilities = tf.nn.sigmoid(prediction['logits'])"
   ]
  },
  {
   "cell_type": "code",
   "execution_count": 13,
   "metadata": {
    "colab": {
     "base_uri": "https://localhost:8080/"
    },
    "id": "Qm0MxXcUL6rx",
    "outputId": "233620de-813e-4815-f0ed-ac40b41fb0a4"
   },
   "outputs": [
    {
     "name": "stdout",
     "output_type": "stream",
     "text": [
      "toxic ::  cocksucker before you piss around on my work\n",
      "non toxic  ::  I am very good man.\n"
     ]
    }
   ],
   "source": [
    "i=0\n",
    "for pred in probabilities:\n",
    "  if pred >0.5 :\n",
    "    print('toxic :: ',new_sequences[i])\n",
    "  else:\n",
    "    print('non toxic  :: ',new_sequences[i])\n",
    "  i+=1\n",
    "\n"
   ]
  },
  {
   "cell_type": "code",
   "execution_count": 14,
   "metadata": {
    "id": "zjVWLpEYN1NT"
   },
   "outputs": [],
   "source": [
    "import pandas as pd"
   ]
  },
  {
   "cell_type": "code",
   "execution_count": 15,
   "metadata": {
    "id": "I1BSQ4Q_ePlN"
   },
   "outputs": [],
   "source": [
    "df = pd.read_csv(r\"C:\\Users\\admin\\Desktop\\Major project\\dataset\\cleanTestDataOne.csv\")"
   ]
  },
  {
   "cell_type": "code",
   "execution_count": 16,
   "metadata": {
    "id": "wiWCqb6pGKRx"
   },
   "outputs": [],
   "source": [
    "textData=[]\n",
    "\n",
    "for i in range(len(df['text'])):\n",
    "  if i is not None:\n",
    "    textData.append(str(df['text'][i]))\n",
    "   "
   ]
  },
  {
   "cell_type": "code",
   "execution_count": 17,
   "metadata": {
    "colab": {
     "base_uri": "https://localhost:8080/"
    },
    "id": "y0xiPegzQ6FA",
    "outputId": "4c574f08-4df9-4fd0-8f5b-c89260f909f4"
   },
   "outputs": [],
   "source": [
    "#textData=len(textData)/2\n",
    "#textData=[str(i) for i in df['text'].values]"
   ]
  },
  {
   "cell_type": "code",
   "execution_count": 18,
   "metadata": {
    "id": "TJf7jUwnqsVn"
   },
   "outputs": [],
   "source": [
    "data = bert_tokenizer(textData, truncation=True,max_length=86, padding='max_length', return_tensors='tf',return_attention_mask=True)\n"
   ]
  },
  {
   "cell_type": "code",
   "execution_count": 19,
   "metadata": {
    "id": "bZpdu-47N7kX"
   },
   "outputs": [],
   "source": [
    "token_type_ids=tf.zeros_like(data['input_ids'])"
   ]
  },
  {
   "cell_type": "code",
   "execution_count": 20,
   "metadata": {
    "id": "v70T47qKN7kX"
   },
   "outputs": [],
   "source": [
    "inputs={\n",
    "    'input_ids':data['input_ids'],\n",
    "    'attention_mask':data['attention_mask'],\n",
    "    'token_type_ids':token_type_ids\n",
    "}"
   ]
  },
  {
   "cell_type": "code",
   "execution_count": 21,
   "metadata": {
    "colab": {
     "base_uri": "https://localhost:8080/"
    },
    "id": "vEYg8ldINxHD",
    "outputId": "1cbd2c28-b527-41b4-c75a-60e1e1972067"
   },
   "outputs": [
    {
     "name": "stdout",
     "output_type": "stream",
     "text": [
      "4787/4787 [==============================] - 21454s 4s/step\n"
     ]
    }
   ],
   "source": [
    "predictions = bert_model.predict(inputs)"
   ]
  },
  {
   "cell_type": "code",
   "execution_count": 22,
   "metadata": {
    "id": "rbolA-YYHMM7"
   },
   "outputs": [],
   "source": [
    "probabilities = tf.nn.sigmoid(predictions['logits'])"
   ]
  },
  {
   "cell_type": "code",
   "execution_count": 23,
   "metadata": {
    "colab": {
     "base_uri": "https://localhost:8080/"
    },
    "id": "gBfAdQ-FRDYG",
    "outputId": "f5c2cee8-a601-4404-a2cc-e5ee307ee73a"
   },
   "outputs": [
    {
     "data": {
      "text/plain": [
       "<tf.Tensor: shape=(153164, 1), dtype=float32, numpy=\n",
       "array([[0.9725502 ],\n",
       "       [0.16869593],\n",
       "       [0.19088188],\n",
       "       ...,\n",
       "       [0.17083901],\n",
       "       [0.22922646],\n",
       "       [0.97345424]], dtype=float32)>"
      ]
     },
     "execution_count": 23,
     "metadata": {},
     "output_type": "execute_result"
    }
   ],
   "source": [
    "probabilities"
   ]
  },
  {
   "cell_type": "code",
   "execution_count": 24,
   "metadata": {
    "colab": {
     "base_uri": "https://localhost:8080/",
     "height": 1000
    },
    "id": "SyCnj0TDGKRx",
    "outputId": "4eca0b1d-9aac-4ac3-afb7-04ea5a057038"
   },
   "outputs": [],
   "source": [
    "import pickle\n",
    "with open(r'C:\\Users\\admin\\Desktop\\Major project\\dataset\\modelBert.pkl', 'rb') as f:\n",
    "  pickleF=pickle.load(f)\n",
    "  \n",
    "    "
   ]
  },
  {
   "cell_type": "code",
   "execution_count": 25,
   "metadata": {
    "id": "tKr2jSuSHYZU"
   },
   "outputs": [
    {
     "data": {
      "text/plain": [
       "(0.9557709574699402, 0.9576057195663452, 0.9546964645385743)"
      ]
     },
     "execution_count": 25,
     "metadata": {},
     "output_type": "execute_result"
    }
   ],
   "source": [
    "accuracy= sum(pickleF['data']['accuracy'])/len(pickleF['data']['accuracy'])\n",
    "recall=sum(pickleF['data']['recall'])/len(pickleF['data']['recall'])\n",
    "precision=sum(pickleF['data']['precision'])/len(pickleF['data']['precision'])\n",
    "accuracy, recall,precision"
   ]
  },
  {
   "cell_type": "code",
   "execution_count": 26,
   "metadata": {
    "id": "qBpKX5GkJKF_"
   },
   "outputs": [
    {
     "data": {
      "text/plain": [
       "0.9561426348399138"
      ]
     },
     "execution_count": 26,
     "metadata": {},
     "output_type": "execute_result"
    }
   ],
   "source": [
    "length=len(pickleF['data']['accuracy'])\n",
    "f1=[]\n",
    "for i in range(0,length):\n",
    "  N=2*(pickleF['data']['precision'][i]*pickleF['data']['recall'][i])\n",
    "  D=(pickleF['data']['precision'][i]+pickleF['data']['recall'][i])\n",
    "  f1.append(N/D)\n",
    "sum(f1)/length"
   ]
  },
  {
   "cell_type": "code",
   "execution_count": 27,
   "metadata": {
    "id": "fGo2EsQANj3k"
   },
   "outputs": [],
   "source": [
    "y1=pickleF['data']['loss']\n",
    "x=list(range(1,len(pickleF['data']['loss'])+1))\n",
    "y2=pickleF['data']['val_loss']\n",
    "\n"
   ]
  },
  {
   "cell_type": "code",
   "execution_count": 28,
   "metadata": {
    "id": "22t54lPaONkQ"
   },
   "outputs": [
    {
     "data": {
      "image/png": "[encoded data removed]",
      "text/plain": [
       "<Figure size 640x480 with 1 Axes>"
      ]
     },
     "metadata": {},
     "output_type": "display_data"
    }
   ],
   "source": [
    "import matplotlib.pyplot as plt\n",
    "plt.plot( x,y1, label='training')\n",
    "plt.plot(x ,y2, label='validation')\n",
    "\n",
    "plt.xlabel('Epoch')\n",
    "plt.ylabel('Loss')\n",
    "plt.title('Title of the plot')\n",
    "plt.legend()\n",
    "plt.show()\n",
    "\n",
    "\n"
   ]
  },
  {
   "cell_type": "code",
   "execution_count": 29,
   "metadata": {
    "id": "n0uLc5VQPoHH"
   },
   "outputs": [],
   "source": [
    "y1=pickleF['data']['accuracy']\n",
    "x=list(range(1,len(pickleF['data']['accuracy'])+1))\n",
    "y2=pickleF['data']['val_accuracy']"
   ]
  },
  {
   "cell_type": "code",
   "execution_count": 30,
   "metadata": {
    "id": "oauVaw0MPxem"
   },
   "outputs": [
    {
     "data": {
      "image/png": "[encoded data removed]",
      "text/plain": [
       "<Figure size 640x480 with 1 Axes>"
      ]
     },
     "metadata": {},
     "output_type": "display_data"
    }
   ],
   "source": [
    "import matplotlib.pyplot as plt\n",
    "plt.plot( x,y1, label='training')\n",
    "plt.plot(x ,y2, label='validation')\n",
    "\n",
    "plt.xlabel('Epoch')\n",
    "plt.ylabel('Accuracy')\n",
    "plt.title('Title of the plot')\n",
    "plt.legend()\n",
    "plt.show()\n",
    "\n",
    "\n"
   ]
  },
  {
   "cell_type": "code",
   "execution_count": 31,
   "metadata": {
    "id": "bPRElRnCOaSF"
   },
   "outputs": [],
   "source": [
    "import pytesseract\n",
    "import pandas as pd\n",
    "import shutil\n",
    "\n",
    "import os\n",
    "\n",
    "import random\n",
    "\n",
    "try:\n",
    "\n",
    "    from PIL import Image\n",
    "\n",
    "except ImportError:\n",
    "\n",
    "    import Image"
   ]
  },
  {
   "cell_type": "code",
   "execution_count": 32,
   "metadata": {},
   "outputs": [],
   "source": [
    "image_path=r'C:\\Users\\admin\\Desktop\\Major project\\testImage.png'\n",
    "\n",
    "extractedInformation = pytesseract.image_to_string(Image.open(image_path))"
   ]
  },
  {
   "cell_type": "code",
   "execution_count": 33,
   "metadata": {},
   "outputs": [
    {
     "data": {
      "text/plain": [
       "'please feel free to go ahead and\\nblock this address it will stop an\\nentire country with 300 000\\nregistered internet users from\\nediting\\n\\x0c'"
      ]
     },
     "execution_count": 33,
     "metadata": {},
     "output_type": "execute_result"
    }
   ],
   "source": [
    "extractedInformation"
   ]
  },
  {
   "cell_type": "code",
   "execution_count": 34,
   "metadata": {},
   "outputs": [],
   "source": [
    "import pandas as pd\n",
    "import string\n",
    "import contractions\n",
    "\n",
    "def cleanData(text):\n",
    "  \n",
    "    return  contractions.fix(text.translate(str.maketrans('', '', string.punctuation)).replace('\\n', ' ').strip()).lower()\n",
    " \n",
    "\n",
    "\n"
   ]
  },
  {
   "cell_type": "code",
   "execution_count": 35,
   "metadata": {},
   "outputs": [
    {
     "data": {
      "text/plain": [
       "'please feel free to go ahead and block this address it will stop an entire country with 300 000 registered internet users from editing'"
      ]
     },
     "execution_count": 35,
     "metadata": {},
     "output_type": "execute_result"
    }
   ],
   "source": [
    "textData=cleanData(extractedInformation)\n",
    "textData"
   ]
  },
  {
   "cell_type": "code",
   "execution_count": 36,
   "metadata": {},
   "outputs": [],
   "source": [
    "\n",
    "\n",
    "data = bert_tokenizer(textData, truncation=True,max_length=86, padding='max_length', return_tensors='tf',return_attention_mask=True)\n"
   ]
  },
  {
   "cell_type": "code",
   "execution_count": 37,
   "metadata": {},
   "outputs": [],
   "source": [
    "token_type_ids=tf.zeros_like(data['input_ids'])\n",
    "inputs={\n",
    "    'input_ids':data['input_ids'],\n",
    "    'attention_mask':data['attention_mask'],\n",
    "    'token_type_ids':token_type_ids\n",
    "}"
   ]
  },
  {
   "cell_type": "code",
   "execution_count": 38,
   "metadata": {},
   "outputs": [
    {
     "name": "stdout",
     "output_type": "stream",
     "text": [
      "1/1 [==============================] - 0s 218ms/step\n"
     ]
    }
   ],
   "source": [
    "prediction = bert_model.predict(inputs)"
   ]
  },
  {
   "cell_type": "code",
   "execution_count": 39,
   "metadata": {},
   "outputs": [],
   "source": [
    "probabilities = tf.nn.sigmoid(prediction['logits'])"
   ]
  },
  {
   "cell_type": "code",
   "execution_count": 40,
   "metadata": {},
   "outputs": [
    {
     "data": {
      "text/plain": [
       "<tf.Tensor: shape=(1, 1), dtype=float32, numpy=array([[0.24250758]], dtype=float32)>"
      ]
     },
     "execution_count": 40,
     "metadata": {},
     "output_type": "execute_result"
    }
   ],
   "source": [
    "probabilities"
   ]
  },
  {
   "cell_type": "code",
   "execution_count": 41,
   "metadata": {},
   "outputs": [
    {
     "name": "stdout",
     "output_type": "stream",
     "text": [
      "non toxic  ::  please feel free to go ahead and block this address it will stop an entire country with 300 000 registered internet users from editing\n"
     ]
    }
   ],
   "source": [
    "i=0\n",
    "for pre in probabilities:\n",
    "  if pre >0.5 :\n",
    "    print('toxic :: ',textData)\n",
    "  else:\n",
    "    print('non toxic  :: ',textData)\n",
    "  i+=1 "
   ]
  },
  {
   "cell_type": "code",
   "execution_count": null,
   "metadata": {},
   "outputs": [],
   "source": []
  }
 ],
 "metadata": {
  "accelerator": "GPU",
  "colab": {
   "gpuType": "T4",
   "provenance": []
  },
  "gpuClass": "standard",
  "kernelspec": {
   "display_name": "Python 3 (ipykernel)",
   "language": "python",
   "name": "python3"
  },
  "language_info": {
   "codemirror_mode": {
    "name": "ipython",
    "version": 3
   },
   "file_extension": ".py",
   "mimetype": "text/x-python",
   "name": "python",
   "nbconvert_exporter": "python",
   "pygments_lexer": "ipython3",
   "version": "3.10.5"
  }
 },
 "nbformat": 4,
 "nbformat_minor": 1
}
