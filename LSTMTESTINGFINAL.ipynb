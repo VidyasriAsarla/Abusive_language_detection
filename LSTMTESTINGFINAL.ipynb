{
 "cells": [
  {
   "cell_type": "code",
   "execution_count": 77,
   "metadata": {
    "id": "kArmJtRbeoWc"
   },
   "outputs": [],
   "source": [
    "import pandas as pd\n",
    "from tensorflow.keras.preprocessing.text import Tokenizer,text_to_word_sequence\n",
    "from tensorflow.keras.preprocessing.sequence import pad_sequences\n",
    "import tensorflow as tf\n",
    "from tensorflow.keras.callbacks import Callback ,EarlyStopping,ModelCheckpoint\n",
    "from sklearn.metrics import precision_score, recall_score,accuracy_score\n",
    "from tensorflow.keras.models import Sequential\n",
    "from tensorflow.keras.layers import Embedding, LSTM, Bidirectional, Dense\n",
    "from sklearn.model_selection import train_test_split\n",
    "from tensorflow.keras.preprocessing.sequence import pad_sequences"
   ]
  },
  {
   "cell_type": "markdown",
   "metadata": {
    "id": "7XmagmkhjcSY"
   },
   "source": [
    "#ijmporting the cleaned test csv file"
   ]
  },
  {
   "cell_type": "code",
   "execution_count": 78,
   "metadata": {
    "id": "I1BSQ4Q_ePlN"
   },
   "outputs": [],
   "source": [
    "#importing cleaned data from folder\n",
    "df = pd.read_csv(r\"C:\\Users\\admin\\Desktop\\Major project\\dataset\\cleanDataOne.csv\")"
   ]
  },
  {
   "cell_type": "code",
   "execution_count": 79,
   "metadata": {
    "colab": {
     "base_uri": "https://localhost:8080/",
     "height": 35
    },
    "id": "oops_URxmBvr",
    "outputId": "bf4ab98c-b07c-4e84-d384-ec744802d8a2"
   },
   "outputs": [
    {
     "data": {
      "text/plain": [
       "'fuck your filthy mother in the ass dry'"
      ]
     },
     "execution_count": 79,
     "metadata": {},
     "output_type": "execute_result"
    }
   ],
   "source": [
    "X=df['text'].astype(str)\n",
    "X[2]"
   ]
  },
  {
   "cell_type": "markdown",
   "metadata": {
    "id": "XHx44udXjhvf"
   },
   "source": [
    "#tokenizing the cleaned test data"
   ]
  },
  {
   "cell_type": "code",
   "execution_count": 80,
   "metadata": {
    "id": "TJRqtRJJejpd"
   },
   "outputs": [],
   "source": [
    "\n",
    "# X=['You motherfucker go and fuck youself']\n",
    "tokenizer = Tokenizer(num_words=10000)\n",
    "tokenizer.fit_on_texts(X)\n",
    "sequences = tokenizer.texts_to_sequences(X)\n",
    "X = pad_sequences(sequences, maxlen=100)"
   ]
  },
  {
   "cell_type": "code",
   "execution_count": null,
   "metadata": {
    "id": "5t7_coUxmA5s"
   },
   "outputs": [],
   "source": []
  },
  {
   "cell_type": "markdown",
   "metadata": {
    "id": "0GCvxW16jm_e"
   },
   "source": [
    "#importing the saved pickle file"
   ]
  },
  {
   "cell_type": "code",
   "execution_count": 81,
   "metadata": {
    "id": "O_jrMGK-gRxD"
   },
   "outputs": [
    {
     "name": "stdout",
     "output_type": "stream",
     "text": [
      "Keras model archive loading:\n",
      "File Name                                             Modified             Size\n",
      "config.json                                    2023-04-16 15:18:32         2731\n",
      "metadata.json                                  2023-04-16 15:18:32           64\n",
      "variables.h5                                   2023-04-16 15:18:32     11701960\n",
      "Keras weights file (<HDF5 file \"variables.h5\" (mode r)>) loading:\n",
      "...layers\\bidirectional\n",
      "......vars\n",
      "...layers\\bidirectional\\backward_layer\n",
      "......vars\n",
      "...layers\\bidirectional\\backward_layer\\cell\n",
      "......vars\n",
      ".........0\n",
      ".........1\n",
      ".........2\n",
      "...layers\\bidirectional\\forward_layer\n",
      "......vars\n",
      "...layers\\bidirectional\\forward_layer\\cell\n",
      "......vars\n",
      ".........0\n",
      ".........1\n",
      ".........2\n",
      "...layers\\bidirectional\\layer\n",
      "......vars\n",
      "...layers\\bidirectional\\layer\\cell\n",
      "......vars\n",
      "...layers\\dense\n",
      "......vars\n",
      ".........0\n",
      ".........1\n",
      "...layers\\embedding\n",
      "......vars\n",
      ".........0\n",
      "...metrics\\mean\n",
      "......vars\n",
      ".........0\n",
      ".........1\n",
      "...metrics\\mean_metric_wrapper\n",
      "......vars\n",
      ".........0\n",
      ".........1\n",
      "...metrics\\precision\n",
      "......vars\n",
      ".........0\n",
      ".........1\n",
      "...metrics\\recall\n",
      "......vars\n",
      ".........0\n",
      ".........1\n",
      "...optimizer\n",
      "......vars\n",
      ".........0\n",
      ".........1\n",
      ".........10\n",
      ".........11\n",
      ".........12\n",
      ".........13\n",
      ".........14\n",
      ".........15\n",
      ".........16\n",
      ".........2\n",
      ".........3\n",
      ".........4\n",
      ".........5\n",
      ".........6\n",
      ".........7\n",
      ".........8\n",
      ".........9\n",
      "...vars\n"
     ]
    }
   ],
   "source": [
    "import pickle\n",
    "with open(r'C:\\Users\\admin\\Desktop\\Major project\\modelLstmBidirectionalGlove.pkl', 'rb') as f:\n",
    "  pickle_data_lstm_bidirec_glove=pickle.load(f)"
   ]
  },
  {
   "cell_type": "markdown",
   "metadata": {
    "id": "tQNvLpbppKDC"
   },
   "source": [
    "#NORMAL LSTM BIDIRECTIONAL +GLOVE"
   ]
  },
  {
   "cell_type": "code",
   "execution_count": 82,
   "metadata": {
    "id": "Jxxt1_mEpI9f"
   },
   "outputs": [
    {
     "data": {
      "text/plain": [
       "{'data': {'loss': [0.35602903366088867,\n",
       "   0.2701985538005829,\n",
       "   0.24561920762062073,\n",
       "   0.23042082786560059,\n",
       "   0.21389876306056976,\n",
       "   0.19824355840682983,\n",
       "   0.18293778598308563,\n",
       "   0.17027030885219574,\n",
       "   0.154354065656662,\n",
       "   0.13888688385486603,\n",
       "   0.1224651113152504,\n",
       "   0.11012469977140427],\n",
       "  'accuracy': [0.8516235947608948,\n",
       "   0.8898428082466125,\n",
       "   0.8982897996902466,\n",
       "   0.9067368507385254,\n",
       "   0.9138683080673218,\n",
       "   0.9216921925544739,\n",
       "   0.9261926412582397,\n",
       "   0.9345011711120605,\n",
       "   0.9405940771102905,\n",
       "   0.9483487010002136,\n",
       "   0.9529876112937927,\n",
       "   0.9595651626586914],\n",
       "  'precision': [0.8611664175987244,\n",
       "   0.8969261050224304,\n",
       "   0.9045007228851318,\n",
       "   0.9126158952713013,\n",
       "   0.9184988141059875,\n",
       "   0.9255170226097107,\n",
       "   0.9304797649383545,\n",
       "   0.9387498497962952,\n",
       "   0.9441574811935425,\n",
       "   0.9509680867195129,\n",
       "   0.9565885066986084,\n",
       "   0.9626376628875732],\n",
       "  'recall': [0.8383880257606506,\n",
       "   0.8809029459953308,\n",
       "   0.890596866607666,\n",
       "   0.8995984196662903,\n",
       "   0.9083229303359985,\n",
       "   0.9171859622001648,\n",
       "   0.9212020635604858,\n",
       "   0.9296496510505676,\n",
       "   0.93657386302948,\n",
       "   0.9454368948936462,\n",
       "   0.9490375518798828,\n",
       "   0.9562387466430664],\n",
       "  'val_loss': [0.28399714827537537,\n",
       "   0.26254162192344666,\n",
       "   0.27551978826522827,\n",
       "   0.24233801662921906,\n",
       "   0.236601784825325,\n",
       "   0.24198445677757263,\n",
       "   0.2361074835062027,\n",
       "   0.23939578235149384,\n",
       "   0.24535705149173737,\n",
       "   0.2519003748893738,\n",
       "   0.2836897373199463,\n",
       "   0.2812223434448242],\n",
       "  'val_accuracy': [0.8828579187393188,\n",
       "   0.8875657916069031,\n",
       "   0.8867349624633789,\n",
       "   0.9025200605392456,\n",
       "   0.9022431373596191,\n",
       "   0.9041816592216492,\n",
       "   0.9052894115447998,\n",
       "   0.9061201810836792,\n",
       "   0.9052894115447998,\n",
       "   0.9105510711669922,\n",
       "   0.9033508896827698,\n",
       "   0.9030739665031433],\n",
       "  'val_precision': [0.8958213925361633,\n",
       "   0.9004576802253723,\n",
       "   0.9401386380195618,\n",
       "   0.8990120887756348,\n",
       "   0.9144324064254761,\n",
       "   0.924912691116333,\n",
       "   0.8991276025772095,\n",
       "   0.9054726362228394,\n",
       "   0.8969631195068359,\n",
       "   0.9158720970153809,\n",
       "   0.9203693270683289,\n",
       "   0.9188722372055054],\n",
       "  'val_recall': [0.86655592918396,\n",
       "   0.871539294719696,\n",
       "   0.8261350989341736,\n",
       "   0.9069767594337463,\n",
       "   0.8875969052314758,\n",
       "   0.8798449635505676,\n",
       "   0.9130675792694092,\n",
       "   0.9069767594337463,\n",
       "   0.9158360958099365,\n",
       "   0.9042081832885742,\n",
       "   0.8831672072410583,\n",
       "   0.8842746615409851]},\n",
       " 'model': <keras.engine.sequential.Sequential at 0x1ffe4b1efb0>}"
      ]
     },
     "execution_count": 82,
     "metadata": {},
     "output_type": "execute_result"
    }
   ],
   "source": [
    "pickle_data_lstm_bidirec_glove"
   ]
  },
  {
   "cell_type": "code",
   "execution_count": 83,
   "metadata": {
    "id": "Rd1MIQc9ghvY"
   },
   "outputs": [],
   "source": [
    "model_lstm_bidirec_normal=pickle_data_lstm_bidirec_glove['model']"
   ]
  },
  {
   "cell_type": "markdown",
   "metadata": {
    "id": "p6EVsKFCjrFW"
   },
   "source": [
    "#predicting the test data"
   ]
  },
  {
   "cell_type": "code",
   "execution_count": 84,
   "metadata": {
    "colab": {
     "base_uri": "https://localhost:8080/"
    },
    "id": "IbwUNh-wjxpY",
    "outputId": "cb6ffe67-ca57-4734-d7ef-faa63e226858"
   },
   "outputs": [
    {
     "name": "stdout",
     "output_type": "stream",
     "text": [
      "565/565 [==============================] - 11s 18ms/step\n"
     ]
    },
    {
     "data": {
      "text/plain": [
       "array([[9.9939364e-01],\n",
       "       [8.9536774e-01],\n",
       "       [9.9996823e-01],\n",
       "       ...,\n",
       "       [6.5434852e-04],\n",
       "       [8.9329588e-01],\n",
       "       [5.4319259e-03]], dtype=float32)"
      ]
     },
     "execution_count": 84,
     "metadata": {},
     "output_type": "execute_result"
    }
   ],
   "source": [
    "model_lstm_bidirec_normal.predict(X)"
   ]
  },
  {
   "cell_type": "code",
   "execution_count": 85,
   "metadata": {
    "id": "yiRV0USAnbMW"
   },
   "outputs": [
    {
     "data": {
      "text/plain": [
       "(0.920353576540947, 0.9144278268019358, 0.9252338608105978)"
      ]
     },
     "execution_count": 85,
     "metadata": {},
     "output_type": "execute_result"
    }
   ],
   "source": [
    "accuracy= sum(pickle_data_lstm_bidirec_glove['data']['accuracy'])/len(pickle_data_lstm_bidirec_glove['data']['accuracy'])\n",
    "recall=sum(pickle_data_lstm_bidirec_glove['data']['recall'])/len(pickle_data_lstm_bidirec_glove['data']['recall'])\n",
    "precision=sum(pickle_data_lstm_bidirec_glove['data']['precision'])/len(pickle_data_lstm_bidirec_glove['data']['precision'])\n",
    "accuracy, recall,precision"
   ]
  },
  {
   "cell_type": "code",
   "execution_count": 86,
   "metadata": {},
   "outputs": [
    {
     "data": {
      "text/plain": [
       "0.9197919259770334"
      ]
     },
     "execution_count": 86,
     "metadata": {},
     "output_type": "execute_result"
    }
   ],
   "source": [
    "length=len(pickle_data_lstm_bidirec_glove['data']['accuracy'])\n",
    "f1=[]\n",
    "for i in range(0,length):\n",
    "  N=2*(pickle_data_lstm_bidirec_glove['data']['precision'][i]*pickle_data_lstm_bidirec_glove['data']['recall'][i])\n",
    "  D=(pickle_data_lstm_bidirec_glove['data']['precision'][i]+pickle_data_lstm_bidirec_glove['data']['recall'][i])\n",
    "  f1.append(N/D)\n",
    "sum(f1)/length"
   ]
  },
  {
   "cell_type": "markdown",
   "metadata": {
    "id": "487vwod5pF5z"
   },
   "source": [
    "#PLOTS"
   ]
  },
  {
   "cell_type": "code",
   "execution_count": null,
   "metadata": {
    "id": "oeXyNpwOnvOT"
   },
   "outputs": [],
   "source": []
  },
  {
   "cell_type": "markdown",
   "metadata": {
    "id": "DmL7k4pdj5U5"
   },
   "source": [
    "#plotting the metrics"
   ]
  },
  {
   "cell_type": "code",
   "execution_count": 87,
   "metadata": {
    "colab": {
     "base_uri": "https://localhost:8080/"
    },
    "id": "obHvlLMGOyyZ",
    "outputId": "3c41922d-a272-4685-de9a-4f338c221367"
   },
   "outputs": [],
   "source": [
    "#!pip install matplotlib\n"
   ]
  },
  {
   "cell_type": "code",
   "execution_count": 88,
   "metadata": {
    "id": "fGo2EsQANj3k"
   },
   "outputs": [],
   "source": [
    "y1=pickle_data_lstm_bidirec_glove['data']['loss']\n",
    "x=list(range(1,len(pickle_data_lstm_bidirec_glove['data']['loss'])+1))\n",
    "y2=pickle_data_lstm_bidirec_glove['data']['val_loss']"
   ]
  },
  {
   "cell_type": "code",
   "execution_count": 89,
   "metadata": {
    "colab": {
     "base_uri": "https://localhost:8080/",
     "height": 472
    },
    "id": "22t54lPaONkQ",
    "outputId": "06c2c8be-5cf1-4b79-c832-4baca694dfb5"
   },
   "outputs": [
    {
     "data": {
      "image/png": "[encoded data removed]",
      "text/plain": [
       "<Figure size 640x480 with 1 Axes>"
      ]
     },
     "metadata": {},
     "output_type": "display_data"
    }
   ],
   "source": [
    "\n",
    "import matplotlib.pyplot as plt\n",
    "plt.plot( x,y1, label='training')\n",
    "plt.plot(x ,y2, label='validation')\n",
    "\n",
    "plt.xlabel('Epoch')\n",
    "plt.ylabel('Loss')\n",
    "plt.title('Title of the plot')\n",
    "plt.legend()\n",
    "plt.show()\n",
    "\n",
    "\n"
   ]
  },
  {
   "cell_type": "code",
   "execution_count": 90,
   "metadata": {
    "id": "n0uLc5VQPoHH"
   },
   "outputs": [],
   "source": [
    "y1=pickle_data_lstm_bidirec_glove['data']['accuracy']\n",
    "x=list(range(1,len(pickle_data_lstm_bidirec_glove['data']['accuracy'])+1))\n",
    "y2=pickle_data_lstm_bidirec_glove['data']['val_accuracy']"
   ]
  },
  {
   "cell_type": "code",
   "execution_count": 91,
   "metadata": {
    "colab": {
     "base_uri": "https://localhost:8080/",
     "height": 472
    },
    "id": "oauVaw0MPxem",
    "outputId": "fe872345-f779-424c-99f4-bcc269eed776"
   },
   "outputs": [
    {
     "data": {
      "image/png": "[encoded data removed]",
      "text/plain": [
       "<Figure size 640x480 with 1 Axes>"
      ]
     },
     "metadata": {},
     "output_type": "display_data"
    }
   ],
   "source": [
    "import matplotlib.pyplot as plt\n",
    "plt.plot( x,y1, label='training')\n",
    "plt.plot(x ,y2, label='validation')\n",
    "\n",
    "plt.xlabel('Epoch')\n",
    "plt.ylabel('Accuracy')\n",
    "plt.title('Title of the plot')\n",
    "plt.legend()\n",
    "plt.show()\n",
    "\n",
    "\n"
   ]
  },
  {
   "cell_type": "markdown",
   "metadata": {
    "id": "_FKTFiVrqNgf"
   },
   "source": [
    "#TEXT EXTRACTION"
   ]
  },
  {
   "cell_type": "code",
   "execution_count": null,
   "metadata": {
    "id": "2_-FcMD7qM-Y"
   },
   "outputs": [],
   "source": []
  },
  {
   "cell_type": "code",
   "execution_count": 92,
   "metadata": {
    "id": "QNH8YEvDqVG-"
   },
   "outputs": [
    {
     "name": "stderr",
     "output_type": "stream",
     "text": [
      "'sudo' is not recognized as an internal or external command,\n",
      "operable program or batch file.\n"
     ]
    }
   ],
   "source": [
    "!sudo apt install tesseract-ocr"
   ]
  },
  {
   "cell_type": "code",
   "execution_count": 93,
   "metadata": {
    "id": "tUFnm4dLQqaG"
   },
   "outputs": [
    {
     "name": "stdout",
     "output_type": "stream",
     "text": [
      "Requirement already satisfied: pytesseract in c:\\users\\admin\\appdata\\local\\programs\\python\\python310\\lib\\site-packages (0.3.10)\n",
      "Requirement already satisfied: packaging>=21.3 in c:\\users\\admin\\appdata\\local\\programs\\python\\python310\\lib\\site-packages (from pytesseract) (23.0)\n",
      "Requirement already satisfied: Pillow>=8.0.0 in c:\\users\\admin\\appdata\\local\\programs\\python\\python310\\lib\\site-packages (from pytesseract) (9.4.0)\n"
     ]
    },
    {
     "name": "stderr",
     "output_type": "stream",
     "text": [
      "\n",
      "[notice] A new release of pip is available: 23.0.1 -> 23.1\n",
      "[notice] To update, run: python.exe -m pip install --upgrade pip\n"
     ]
    }
   ],
   "source": [
    "!pip install pytesseract\n"
   ]
  },
  {
   "cell_type": "code",
   "execution_count": 94,
   "metadata": {
    "id": "zxbFBJHoQu1T"
   },
   "outputs": [],
   "source": [
    "import pytesseract\n",
    "\n",
    "import shutil\n",
    "\n",
    "import os\n",
    "\n",
    "import random\n",
    "\n",
    "try:\n",
    "\n",
    "    from PIL import Image\n",
    "\n",
    "except ImportError:\n",
    "\n",
    "    import Image"
   ]
  },
  {
   "cell_type": "code",
   "execution_count": 95,
   "metadata": {
    "id": "0Rh5GhRHRCih"
   },
   "outputs": [],
   "source": [
    "image_path_in_colab=r'C:\\Users\\admin\\Desktop\\Major project\\testImage.png'\n",
    "\n",
    "extractedInformation = pytesseract.image_to_string(Image.open(image_path_in_colab))\n",
    "\n"
   ]
  },
  {
   "cell_type": "markdown",
   "metadata": {
    "id": "qhdiV2YKta5m"
   },
   "source": [
    "**EXTRACTED INFORMATION**"
   ]
  },
  {
   "cell_type": "code",
   "execution_count": 96,
   "metadata": {
    "id": "QltrkI1wRPJ_"
   },
   "outputs": [
    {
     "data": {
      "text/plain": [
       "'please feel free to go ahead and\\nblock this address it will stop an\\nentire country with 300 000\\nregistered internet users from\\nediting\\n\\x0c'"
      ]
     },
     "execution_count": 96,
     "metadata": {},
     "output_type": "execute_result"
    }
   ],
   "source": [
    "extractedInformation"
   ]
  },
  {
   "cell_type": "code",
   "execution_count": 97,
   "metadata": {
    "id": "JHIfGcfDqyHh"
   },
   "outputs": [
    {
     "name": "stdout",
     "output_type": "stream",
     "text": [
      "Requirement already satisfied: contractions in c:\\users\\admin\\appdata\\local\\programs\\python\\python310\\lib\\site-packages (0.1.73)\n",
      "Requirement already satisfied: textsearch>=0.0.21 in c:\\users\\admin\\appdata\\local\\programs\\python\\python310\\lib\\site-packages (from contractions) (0.0.24)\n",
      "Requirement already satisfied: anyascii in c:\\users\\admin\\appdata\\local\\programs\\python\\python310\\lib\\site-packages (from textsearch>=0.0.21->contractions) (0.3.2)\n",
      "Requirement already satisfied: pyahocorasick in c:\\users\\admin\\appdata\\local\\programs\\python\\python310\\lib\\site-packages (from textsearch>=0.0.21->contractions) (2.0.0)\n"
     ]
    },
    {
     "name": "stderr",
     "output_type": "stream",
     "text": [
      "\n",
      "[notice] A new release of pip is available: 23.0.1 -> 23.1\n",
      "[notice] To update, run: python.exe -m pip install --upgrade pip\n"
     ]
    }
   ],
   "source": [
    "\n",
    "!pip install contractions"
   ]
  },
  {
   "cell_type": "code",
   "execution_count": null,
   "metadata": {
    "id": "s6AUyaJBqtjd"
   },
   "outputs": [],
   "source": []
  },
  {
   "cell_type": "code",
   "execution_count": 98,
   "metadata": {
    "id": "AWdgDuf7A5yY"
   },
   "outputs": [],
   "source": [
    "import pandas as pd\n",
    "import string\n",
    "import contractions\n",
    "\n",
    "def cleanData(text):\n",
    "  \n",
    "    return  contractions.fix(text.translate(str.maketrans('', '', string.punctuation)).replace('\\n', ' ').strip()).lower()\n",
    " \n",
    "\n",
    "\n"
   ]
  },
  {
   "cell_type": "code",
   "execution_count": 99,
   "metadata": {
    "id": "gQsm2kC2tZMF"
   },
   "outputs": [
    {
     "data": {
      "text/plain": [
       "'please feel free to go ahead and block this address it will stop an entire country with 300 000 registered internet users from editing'"
      ]
     },
     "execution_count": 99,
     "metadata": {},
     "output_type": "execute_result"
    }
   ],
   "source": [
    "data=cleanData(extractedInformation)\n",
    "data"
   ]
  },
  {
   "cell_type": "code",
   "execution_count": 100,
   "metadata": {
    "id": "uAlJ_ExECR4Q"
   },
   "outputs": [
    {
     "data": {
      "text/plain": [
       "array([[ 0,  0,  0,  0,  0,  0,  0,  0,  0,  0,  0,  0,  0,  0,  0,  0,\n",
       "         0,  0,  0,  0,  0,  0,  0,  0,  0,  0,  0,  0,  0,  0,  0,  0,\n",
       "         0,  0,  0,  0,  0,  0,  0,  0,  0,  0,  0,  0,  0,  0,  0,  0,\n",
       "         0,  0,  0,  0,  0,  0,  0,  0,  0,  0,  0,  0,  0,  0,  0,  0,\n",
       "         0,  0,  0,  0,  0,  0,  0,  0,  0,  0,  0,  0,  1,  2,  3,  4,\n",
       "         5,  6,  7,  8,  9, 10, 11, 12, 13, 14, 15, 16, 17, 18, 19, 20,\n",
       "        21, 22, 23, 24]])"
      ]
     },
     "execution_count": 100,
     "metadata": {},
     "output_type": "execute_result"
    }
   ],
   "source": [
    "\n",
    "tokenizer = Tokenizer(num_words=10000)\n",
    "tokenizer.fit_on_texts([data])\n",
    "sequences = tokenizer.texts_to_sequences([data])\n",
    "X = pad_sequences(sequences, maxlen=100)\n",
    "X"
   ]
  },
  {
   "cell_type": "code",
   "execution_count": 101,
   "metadata": {
    "id": "UHBf8vtmP7D0"
   },
   "outputs": [
    {
     "name": "stdout",
     "output_type": "stream",
     "text": [
      "1/1 [==============================] - 0s 82ms/step\n"
     ]
    },
    {
     "data": {
      "text/plain": [
       "array([[0.9309366]], dtype=float32)"
      ]
     },
     "execution_count": 101,
     "metadata": {},
     "output_type": "execute_result"
    }
   ],
   "source": [
    "predictNormal=model_lstm_bidirec_normal.predict(X)\n",
    "predictNormal"
   ]
  },
  {
   "cell_type": "code",
   "execution_count": null,
   "metadata": {
    "id": "DbhtstfgP9t4"
   },
   "outputs": [],
   "source": [
    "\n"
   ]
  }
 ],
 "metadata": {
  "accelerator": "GPU",
  "colab": {
   "provenance": []
  },
  "gpuClass": "standard",
  "kernelspec": {
   "display_name": "Python 3 (ipykernel)",
   "language": "python",
   "name": "python3"
  },
  "language_info": {
   "codemirror_mode": {
    "name": "ipython",
    "version": 3
   },
   "file_extension": ".py",
   "mimetype": "text/x-python",
   "name": "python",
   "nbconvert_exporter": "python",
   "pygments_lexer": "ipython3",
   "version": "3.10.5"
  }
 },
 "nbformat": 4,
 "nbformat_minor": 1
}
